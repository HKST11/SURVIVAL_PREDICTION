{
 "cells": [
  {
   "cell_type": "markdown",
   "metadata": {},
   "source": [
    "# Survival Prediction on Titanic\n",
    "\n",
    "This project aims to use diﬀerent data processing techniques and Feature Engineering to cleanse the raw data from a dataset containing the information about passengers on Titanic and their status of survival followed by training a machine learning model on the training data to predict the possibility of survival of other passengers."
   ]
  },
  {
   "cell_type": "markdown",
   "metadata": {},
   "source": [
    "### Importing the Libraries"
   ]
  },
  {
   "cell_type": "code",
   "execution_count": 2,
   "metadata": {},
   "outputs": [],
   "source": [
    "import numpy as np\n",
    "import pandas as pd\n",
    "import matplotlib.pyplot as plt"
   ]
  },
  {
   "cell_type": "markdown",
   "metadata": {},
   "source": [
    "### Importing the dataset"
   ]
  },
  {
   "cell_type": "code",
   "execution_count": 3,
   "metadata": {},
   "outputs": [
    {
     "data": {
      "text/html": [
       "<div>\n",
       "<style scoped>\n",
       "    .dataframe tbody tr th:only-of-type {\n",
       "        vertical-align: middle;\n",
       "    }\n",
       "\n",
       "    .dataframe tbody tr th {\n",
       "        vertical-align: top;\n",
       "    }\n",
       "\n",
       "    .dataframe thead th {\n",
       "        text-align: right;\n",
       "    }\n",
       "</style>\n",
       "<table border=\"1\" class=\"dataframe\">\n",
       "  <thead>\n",
       "    <tr style=\"text-align: right;\">\n",
       "      <th></th>\n",
       "      <th>PassengerId</th>\n",
       "      <th>Survived</th>\n",
       "      <th>Pclass</th>\n",
       "      <th>Name</th>\n",
       "      <th>Sex</th>\n",
       "      <th>Age</th>\n",
       "      <th>SibSp</th>\n",
       "      <th>Parch</th>\n",
       "      <th>Ticket</th>\n",
       "      <th>Fare</th>\n",
       "      <th>Cabin</th>\n",
       "      <th>Embarked</th>\n",
       "    </tr>\n",
       "  </thead>\n",
       "  <tbody>\n",
       "    <tr>\n",
       "      <th>0</th>\n",
       "      <td>1</td>\n",
       "      <td>0</td>\n",
       "      <td>3</td>\n",
       "      <td>Braund, Mr. Owen Harris</td>\n",
       "      <td>male</td>\n",
       "      <td>22.0</td>\n",
       "      <td>1</td>\n",
       "      <td>0</td>\n",
       "      <td>A/5 21171</td>\n",
       "      <td>7.2500</td>\n",
       "      <td>NaN</td>\n",
       "      <td>S</td>\n",
       "    </tr>\n",
       "    <tr>\n",
       "      <th>1</th>\n",
       "      <td>2</td>\n",
       "      <td>1</td>\n",
       "      <td>1</td>\n",
       "      <td>Cumings, Mrs. John Bradley (Florence Briggs Th...</td>\n",
       "      <td>female</td>\n",
       "      <td>38.0</td>\n",
       "      <td>1</td>\n",
       "      <td>0</td>\n",
       "      <td>PC 17599</td>\n",
       "      <td>71.2833</td>\n",
       "      <td>C85</td>\n",
       "      <td>C</td>\n",
       "    </tr>\n",
       "    <tr>\n",
       "      <th>2</th>\n",
       "      <td>3</td>\n",
       "      <td>1</td>\n",
       "      <td>3</td>\n",
       "      <td>Heikkinen, Miss. Laina</td>\n",
       "      <td>female</td>\n",
       "      <td>26.0</td>\n",
       "      <td>0</td>\n",
       "      <td>0</td>\n",
       "      <td>STON/O2. 3101282</td>\n",
       "      <td>7.9250</td>\n",
       "      <td>NaN</td>\n",
       "      <td>S</td>\n",
       "    </tr>\n",
       "    <tr>\n",
       "      <th>3</th>\n",
       "      <td>4</td>\n",
       "      <td>1</td>\n",
       "      <td>1</td>\n",
       "      <td>Futrelle, Mrs. Jacques Heath (Lily May Peel)</td>\n",
       "      <td>female</td>\n",
       "      <td>35.0</td>\n",
       "      <td>1</td>\n",
       "      <td>0</td>\n",
       "      <td>113803</td>\n",
       "      <td>53.1000</td>\n",
       "      <td>C123</td>\n",
       "      <td>S</td>\n",
       "    </tr>\n",
       "    <tr>\n",
       "      <th>4</th>\n",
       "      <td>5</td>\n",
       "      <td>0</td>\n",
       "      <td>3</td>\n",
       "      <td>Allen, Mr. William Henry</td>\n",
       "      <td>male</td>\n",
       "      <td>35.0</td>\n",
       "      <td>0</td>\n",
       "      <td>0</td>\n",
       "      <td>373450</td>\n",
       "      <td>8.0500</td>\n",
       "      <td>NaN</td>\n",
       "      <td>S</td>\n",
       "    </tr>\n",
       "  </tbody>\n",
       "</table>\n",
       "</div>"
      ],
      "text/plain": [
       "   PassengerId  Survived  Pclass  \\\n",
       "0            1         0       3   \n",
       "1            2         1       1   \n",
       "2            3         1       3   \n",
       "3            4         1       1   \n",
       "4            5         0       3   \n",
       "\n",
       "                                                Name     Sex   Age  SibSp  \\\n",
       "0                            Braund, Mr. Owen Harris    male  22.0      1   \n",
       "1  Cumings, Mrs. John Bradley (Florence Briggs Th...  female  38.0      1   \n",
       "2                             Heikkinen, Miss. Laina  female  26.0      0   \n",
       "3       Futrelle, Mrs. Jacques Heath (Lily May Peel)  female  35.0      1   \n",
       "4                           Allen, Mr. William Henry    male  35.0      0   \n",
       "\n",
       "   Parch            Ticket     Fare Cabin Embarked  \n",
       "0      0         A/5 21171   7.2500   NaN        S  \n",
       "1      0          PC 17599  71.2833   C85        C  \n",
       "2      0  STON/O2. 3101282   7.9250   NaN        S  \n",
       "3      0            113803  53.1000  C123        S  \n",
       "4      0            373450   8.0500   NaN        S  "
      ]
     },
     "execution_count": 3,
     "metadata": {},
     "output_type": "execute_result"
    }
   ],
   "source": [
    "dataset = pd.read_csv('train.csv')\n",
    "train_data = dataset\n",
    "dataset.head()"
   ]
  },
  {
   "cell_type": "code",
   "execution_count": 3,
   "metadata": {},
   "outputs": [
    {
     "name": "stdout",
     "output_type": "stream",
     "text": [
      "<class 'pandas.core.frame.DataFrame'>\n",
      "RangeIndex: 891 entries, 0 to 890\n",
      "Data columns (total 12 columns):\n",
      "PassengerId    891 non-null int64\n",
      "Survived       891 non-null int64\n",
      "Pclass         891 non-null int64\n",
      "Name           891 non-null object\n",
      "Sex            891 non-null object\n",
      "Age            714 non-null float64\n",
      "SibSp          891 non-null int64\n",
      "Parch          891 non-null int64\n",
      "Ticket         891 non-null object\n",
      "Fare           891 non-null float64\n",
      "Cabin          204 non-null object\n",
      "Embarked       889 non-null object\n",
      "dtypes: float64(2), int64(5), object(5)\n",
      "memory usage: 83.6+ KB\n"
     ]
    }
   ],
   "source": [
    "dataset.info()"
   ]
  },
  {
   "cell_type": "markdown",
   "metadata": {},
   "source": [
    "### Handling the missing Data"
   ]
  },
  {
   "cell_type": "code",
   "execution_count": 4,
   "metadata": {},
   "outputs": [
    {
     "name": "stderr",
     "output_type": "stream",
     "text": [
      "C:\\Users\\HARSHIT KUMAR\\Anaconda3\\lib\\site-packages\\sklearn\\utils\\deprecation.py:58: DeprecationWarning: Class Imputer is deprecated; Imputer was deprecated in version 0.20 and will be removed in 0.22. Import impute.SimpleImputer from sklearn instead.\n",
      "  warnings.warn(msg, category=DeprecationWarning)\n"
     ]
    }
   ],
   "source": [
    "# Handling the missing age data\n",
    "from sklearn.preprocessing import Imputer\n",
    "impute_age = Imputer(missing_values='NaN',strategy='mean',axis=0)\n",
    "\n",
    "train_data['Age'] = impute_age.fit_transform(train_data['Age'].values.reshape(-1,1))\n",
    "\n",
    "# Handling the missing Embarked values\n",
    "train_data.Embarked = train_data.Embarked.fillna('S')"
   ]
  },
  {
   "cell_type": "markdown",
   "metadata": {},
   "source": [
    " ## Data Visualization"
   ]
  },
  {
   "cell_type": "markdown",
   "metadata": {},
   "source": [
    "### Analyzing total number of survivals"
   ]
  },
  {
   "cell_type": "code",
   "execution_count": 5,
   "metadata": {},
   "outputs": [],
   "source": [
    "status = sorted(dataset.Survived.unique())\n",
    "no_of_survivals=[len(dataset[dataset.Survived==0]),len(dataset[dataset.Survived==1])]"
   ]
  },
  {
   "cell_type": "code",
   "execution_count": 6,
   "metadata": {},
   "outputs": [
    {
     "data": {
      "image/png": "[encoded data removed]",
      "text/plain": [
       "<Figure size 432x288 with 1 Axes>"
      ]
     },
     "metadata": {
      "needs_background": "light"
     },
     "output_type": "display_data"
    }
   ],
   "source": [
    "plt.bar(status,no_of_survivals,tick_label=['Died','Survived'],color=['r','g'])\n",
    "plt.title('Survival')\n",
    "plt.xlabel('Status of life')\n",
    "plt.ylabel('No. of passengers')\n",
    "plt.show()"
   ]
  },
  {
   "cell_type": "markdown",
   "metadata": {},
   "source": [
    "### Analyzing Survival Based on Passengers' class"
   ]
  },
  {
   "cell_type": "code",
   "execution_count": 7,
   "metadata": {},
   "outputs": [],
   "source": [
    "pclass = sorted(dataset.Pclass.unique())\n",
    "pclass_passengers = [len(dataset[dataset.Pclass==1]),len(dataset[dataset.Pclass==2]),len(dataset[dataset.Pclass==3])]\n",
    "pclass_survivals=[len(dataset[(dataset.Survived==1)&(dataset.Pclass==1)]),len(dataset[(dataset.Survived==1)&(dataset.Pclass==2)]),len(dataset[(dataset.Survived==1)&(dataset.Pclass==3)])]"
   ]
  },
  {
   "cell_type": "code",
   "execution_count": 8,
   "metadata": {},
   "outputs": [
    {
     "data": {
      "image/png": "[encoded data removed]",
      "text/plain": [
       "<Figure size 432x288 with 1 Axes>"
      ]
     },
     "metadata": {
      "needs_background": "light"
     },
     "output_type": "display_data"
    }
   ],
   "source": [
    "plt.bar(pclass,pclass_passengers,tick_label=['Class1','Class2','Class3'],color='r',label='Died')\n",
    "plt.bar(pclass,pclass_survivals,color='g',label='Survived')\n",
    "plt.title('Survival based on Passenger Class')\n",
    "plt.xlabel('Passenger Class')\n",
    "plt.ylabel('No. of passengers')\n",
    "plt.legend()\n",
    "plt.show()"
   ]
  },
  {
   "cell_type": "markdown",
   "metadata": {},
   "source": [
    "### Analyzing Survival Based on Passengers' gender"
   ]
  },
  {
   "cell_type": "code",
   "execution_count": 9,
   "metadata": {},
   "outputs": [],
   "source": [
    "gender = sorted(dataset.Sex.unique())\n",
    "gender_passengers = [len(dataset[dataset.Sex=='female']),len(dataset[dataset.Sex=='male'])]\n",
    "gender_survivals=[len(dataset[(dataset.Survived==1)&(dataset.Sex=='female')]),len(dataset[(dataset.Survived==1)&(dataset.Sex=='male')])]"
   ]
  },
  {
   "cell_type": "code",
   "execution_count": 10,
   "metadata": {},
   "outputs": [
    {
     "data": {
      "image/png": "[encoded data removed]",
      "text/plain": [
       "<Figure size 432x288 with 1 Axes>"
      ]
     },
     "metadata": {
      "needs_background": "light"
     },
     "output_type": "display_data"
    }
   ],
   "source": [
    "plt.bar(gender,gender_passengers,tick_label=['Female','Male'],color='r',label='Died')\n",
    "plt.bar(gender,gender_survivals,color='g',label='Survived')\n",
    "plt.title('Survival based on Passenger Gender')\n",
    "plt.xlabel('Passenger Class')\n",
    "plt.ylabel('No. of passengers')\n",
    "plt.legend()\n",
    "plt.show()"
   ]
  },
  {
   "cell_type": "markdown",
   "metadata": {},
   "source": [
    "### Analyzing Survival Based on Passengers' cabin"
   ]
  },
  {
   "cell_type": "code",
   "execution_count": 11,
   "metadata": {},
   "outputs": [],
   "source": [
    "cabin = ['Cabin assigned','Cabin not assigned']\n",
    "cabin_passengers = [len(dataset[dataset.Cabin.notnull()]),len(dataset[dataset.Cabin.isnull()])]\n",
    "cabin_survivals=[len(dataset[(dataset.Survived==1)&(dataset.Cabin.notnull())]),len(dataset[(dataset.Survived==1)&(dataset.Cabin.isnull())])]"
   ]
  },
  {
   "cell_type": "code",
   "execution_count": 12,
   "metadata": {},
   "outputs": [
    {
     "data": {
      "image/png": "[encoded data removed]",
      "text/plain": [
       "<Figure size 432x288 with 1 Axes>"
      ]
     },
     "metadata": {
      "needs_background": "light"
     },
     "output_type": "display_data"
    }
   ],
   "source": [
    "plt.bar(cabin,cabin_passengers,tick_label=['Cabin assigned','Cabin not assigned'],color='r',label='Died')\n",
    "plt.bar(cabin,cabin_survivals,color='g',label='Survived')\n",
    "plt.title('Survival based on Passenger Cabin')\n",
    "plt.xlabel('Cabin Assigned or not')\n",
    "plt.ylabel('No. of passengers')\n",
    "plt.legend()\n",
    "plt.show()"
   ]
  },
  {
   "cell_type": "markdown",
   "metadata": {},
   "source": [
    "### Analyzing Survival Based on Passengers' Port of embarkation"
   ]
  },
  {
   "cell_type": "code",
   "execution_count": 13,
   "metadata": {},
   "outputs": [],
   "source": [
    "embarked = ['C','Q','S']\n",
    "embarked_passengers = [len(dataset[dataset.Embarked=='C']),len(dataset[dataset.Embarked=='Q']),len(dataset[dataset.Embarked=='S'])]\n",
    "embarked_survivals=[len(dataset[(dataset.Survived==1)&(dataset.Embarked=='C')]),len(dataset[(dataset.Survived==1)&(dataset.Embarked=='Q')]),len(dataset[(dataset.Survived==1)&(dataset.Embarked=='S')])]"
   ]
  },
  {
   "cell_type": "code",
   "execution_count": 14,
   "metadata": {},
   "outputs": [
    {
     "data": {
      "image/png": "[encoded data removed]",
      "text/plain": [
       "<Figure size 432x288 with 1 Axes>"
      ]
     },
     "metadata": {
      "needs_background": "light"
     },
     "output_type": "display_data"
    }
   ],
   "source": [
    "plt.bar(embarked,embarked_passengers,tick_label=['Cherbourg','Queenstown','Southampton'],color='r',label='Died')\n",
    "plt.bar(embarked,embarked_survivals,color='g',label='Survived')\n",
    "plt.title('Survival based on Passenger Port of Embarkation')\n",
    "plt.xlabel('Names of Ports')\n",
    "plt.ylabel('No. of passengers')\n",
    "plt.legend()\n",
    "plt.show()"
   ]
  },
  {
   "cell_type": "markdown",
   "metadata": {},
   "source": [
    "### Analyzing Survival based on Passengers' Age"
   ]
  },
  {
   "cell_type": "code",
   "execution_count": 15,
   "metadata": {},
   "outputs": [],
   "source": [
    "age_survivals = (train_data[train_data.Survived==1]).Age\n",
    "age_deaths = (train_data[train_data.Survived==0]).Age\n",
    "bins = [0,5,10,15,20,25,30,35,40,45,50,55,60,80]"
   ]
  },
  {
   "cell_type": "code",
   "execution_count": 16,
   "metadata": {},
   "outputs": [
    {
     "data": {
      "image/png": "[encoded data removed]",
      "text/plain": [
       "<Figure size 432x288 with 1 Axes>"
      ]
     },
     "metadata": {
      "needs_background": "light"
     },
     "output_type": "display_data"
    }
   ],
   "source": [
    "plt.hist([age_survivals,age_deaths],color=['g','r'],label=['Survived','Died'],edgecolor='k',stacked=True,bins=bins)\n",
    "plt.title(\"Survival Based on Passengers Age\")\n",
    "plt.xlabel(\"Age\")\n",
    "plt.ylabel(\"No. of passengers\")\n",
    "plt.legend()\n",
    "plt.show()"
   ]
  },
  {
   "cell_type": "markdown",
   "metadata": {},
   "source": [
    "### Analyzing Survival based on Passengers' Fare"
   ]
  },
  {
   "cell_type": "code",
   "execution_count": 17,
   "metadata": {},
   "outputs": [],
   "source": [
    "fare_survivals = (train_data[train_data.Survived==1]).Fare\n",
    "fare_deaths = (train_data[train_data.Survived==0]).Fare"
   ]
  },
  {
   "cell_type": "code",
   "execution_count": 18,
   "metadata": {},
   "outputs": [
    {
     "data": {
      "image/png": "[encoded data removed]",
      "text/plain": [
       "<Figure size 432x288 with 1 Axes>"
      ]
     },
     "metadata": {
      "needs_background": "light"
     },
     "output_type": "display_data"
    }
   ],
   "source": [
    "plt.hist([fare_survivals,fare_deaths],color=['g','r'],label=['Survived','Died'],edgecolor='k',stacked=True)\n",
    "plt.title(\"Survival Based on Passengers Fare\")\n",
    "plt.xlabel(\"Fare\")\n",
    "plt.ylabel(\"No. of passengers\")\n",
    "plt.legend()\n",
    "plt.show()"
   ]
  },
  {
   "cell_type": "markdown",
   "metadata": {},
   "source": [
    "## Feature Engineering"
   ]
  },
  {
   "cell_type": "code",
   "execution_count": 19,
   "metadata": {},
   "outputs": [],
   "source": [
    "family_members=train_data.Parch+train_data.SibSp\n",
    "train_data[\"FamilyMembers\"] = family_members"
   ]
  },
  {
   "cell_type": "markdown",
   "metadata": {},
   "source": [
    "### Analyzing Survival based on Passengers' Family Members"
   ]
  },
  {
   "cell_type": "code",
   "execution_count": 20,
   "metadata": {},
   "outputs": [],
   "source": [
    "family_survivals = (train_data[train_data.Survived==1]).FamilyMembers\n",
    "family_deaths = (train_data[train_data.Survived==0]).FamilyMembers\n",
    "bins = [0,1,2,3,4,5,6,7,8,9,10]"
   ]
  },
  {
   "cell_type": "code",
   "execution_count": 21,
   "metadata": {},
   "outputs": [
    {
     "data": {
      "image/png": "[encoded data removed]",
      "text/plain": [
       "<Figure size 432x288 with 1 Axes>"
      ]
     },
     "metadata": {
      "needs_background": "light"
     },
     "output_type": "display_data"
    }
   ],
   "source": [
    "plt.hist([family_survivals,family_deaths],color=['g','r'],label=['Survived','Died'],edgecolor='k',stacked=True,bins=bins)\n",
    "plt.title(\"Survival Based on Passengers Family Members\")\n",
    "plt.xlabel(\"No. of Family Members\")\n",
    "plt.ylabel(\"No. of passengers\")\n",
    "plt.legend()\n",
    "plt.show()"
   ]
  },
  {
   "cell_type": "markdown",
   "metadata": {},
   "source": [
    "### Adding three more features"
   ]
  },
  {
   "cell_type": "code",
   "execution_count": 22,
   "metadata": {},
   "outputs": [],
   "source": [
    "age_group =[]\n",
    "family_size = []\n",
    "cabin_status=[]"
   ]
  },
  {
   "cell_type": "code",
   "execution_count": 23,
   "metadata": {},
   "outputs": [],
   "source": [
    "for i in train_data.Age:\n",
    "    if(i<15):\n",
    "        age_group.append(2)\n",
    "    elif((i>=15)and(i<40)):\n",
    "        age_group.append(0)\n",
    "    else:\n",
    "        age_group.append(1)"
   ]
  },
  {
   "cell_type": "code",
   "execution_count": 24,
   "metadata": {},
   "outputs": [],
   "source": [
    "for i in train_data.FamilyMembers:\n",
    "    if(i==0):\n",
    "        family_size.append(1)\n",
    "    elif((i>=1)and(i<=3)):\n",
    "        family_size.append(2)\n",
    "    else:\n",
    "        family_size.append(0)"
   ]
  },
  {
   "cell_type": "code",
   "execution_count": 25,
   "metadata": {},
   "outputs": [],
   "source": [
    "train_data.Cabin=train_data.Cabin.fillna(0)\n",
    "for i in train_data.Cabin:\n",
    "    if(i!=0):\n",
    "        cabin_status.append(1)\n",
    "    else:\n",
    "        cabin_status.append(0)"
   ]
  },
  {
   "cell_type": "code",
   "execution_count": 26,
   "metadata": {},
   "outputs": [],
   "source": [
    "train_data[\"AgeGroup\"] = age_group\n",
    "train_data[\"FamilySizeCategory\"] = family_size\n",
    "train_data[\"CabinStatus\"]=cabin_status"
   ]
  },
  {
   "cell_type": "markdown",
   "metadata": {},
   "source": [
    "### Dropping irrelevant columns"
   ]
  },
  {
   "cell_type": "code",
   "execution_count": 27,
   "metadata": {},
   "outputs": [],
   "source": [
    "real_train_y = (train_data.Survived).values\n",
    "train_data = train_data.drop([\"PassengerId\",\"Survived\",\"FamilyMembers\",\"Name\",\"Ticket\",\"Cabin\"],axis=1)"
   ]
  },
  {
   "cell_type": "code",
   "execution_count": 28,
   "metadata": {},
   "outputs": [
    {
     "name": "stdout",
     "output_type": "stream",
     "text": [
      "<class 'pandas.core.frame.DataFrame'>\n",
      "RangeIndex: 891 entries, 0 to 890\n",
      "Data columns (total 10 columns):\n",
      "Pclass                891 non-null int64\n",
      "Sex                   891 non-null object\n",
      "Age                   891 non-null float64\n",
      "SibSp                 891 non-null int64\n",
      "Parch                 891 non-null int64\n",
      "Fare                  891 non-null float64\n",
      "Embarked              891 non-null object\n",
      "AgeGroup              891 non-null int64\n",
      "FamilySizeCategory    891 non-null int64\n",
      "CabinStatus           891 non-null int64\n",
      "dtypes: float64(2), int64(6), object(2)\n",
      "memory usage: 69.7+ KB\n"
     ]
    }
   ],
   "source": [
    "train_data.info()"
   ]
  },
  {
   "cell_type": "markdown",
   "metadata": {},
   "source": [
    "### Handling categorical variables"
   ]
  },
  {
   "cell_type": "code",
   "execution_count": 29,
   "metadata": {},
   "outputs": [],
   "source": [
    "from sklearn.preprocessing import LabelEncoder, OneHotEncoder\n",
    "le_1 = LabelEncoder()\n",
    "le_2 = LabelEncoder()\n",
    "le_3 = LabelEncoder()\n",
    "le_4 = LabelEncoder()\n",
    "le_5 = LabelEncoder()\n",
    "le_6 = LabelEncoder()"
   ]
  },
  {
   "cell_type": "code",
   "execution_count": 30,
   "metadata": {},
   "outputs": [],
   "source": [
    "train_data.Pclass = le_1.fit_transform(train_data.Pclass)\n",
    "train_data.Sex = le_2.fit_transform(train_data.Sex)\n",
    "train_data.Embarked = le_3.fit_transform(train_data.Embarked)\n",
    "train_data.AgeGroup = le_4.fit_transform(train_data.AgeGroup)\n",
    "train_data.FamilySizeCategory = le_5.fit_transform(train_data.FamilySizeCategory)\n",
    "train_data.CabinStatus = le_6.fit_transform(train_data.CabinStatus)"
   ]
  },
  {
   "cell_type": "code",
   "execution_count": 31,
   "metadata": {},
   "outputs": [
    {
     "data": {
      "text/html": [
       "<div>\n",
       "<style scoped>\n",
       "    .dataframe tbody tr th:only-of-type {\n",
       "        vertical-align: middle;\n",
       "    }\n",
       "\n",
       "    .dataframe tbody tr th {\n",
       "        vertical-align: top;\n",
       "    }\n",
       "\n",
       "    .dataframe thead th {\n",
       "        text-align: right;\n",
       "    }\n",
       "</style>\n",
       "<table border=\"1\" class=\"dataframe\">\n",
       "  <thead>\n",
       "    <tr style=\"text-align: right;\">\n",
       "      <th></th>\n",
       "      <th>Pclass</th>\n",
       "      <th>Sex</th>\n",
       "      <th>Age</th>\n",
       "      <th>SibSp</th>\n",
       "      <th>Parch</th>\n",
       "      <th>Fare</th>\n",
       "      <th>Embarked</th>\n",
       "      <th>AgeGroup</th>\n",
       "      <th>FamilySizeCategory</th>\n",
       "      <th>CabinStatus</th>\n",
       "    </tr>\n",
       "  </thead>\n",
       "  <tbody>\n",
       "    <tr>\n",
       "      <th>0</th>\n",
       "      <td>2</td>\n",
       "      <td>1</td>\n",
       "      <td>22.0</td>\n",
       "      <td>1</td>\n",
       "      <td>0</td>\n",
       "      <td>7.2500</td>\n",
       "      <td>2</td>\n",
       "      <td>0</td>\n",
       "      <td>2</td>\n",
       "      <td>0</td>\n",
       "    </tr>\n",
       "    <tr>\n",
       "      <th>1</th>\n",
       "      <td>0</td>\n",
       "      <td>0</td>\n",
       "      <td>38.0</td>\n",
       "      <td>1</td>\n",
       "      <td>0</td>\n",
       "      <td>71.2833</td>\n",
       "      <td>0</td>\n",
       "      <td>0</td>\n",
       "      <td>2</td>\n",
       "      <td>1</td>\n",
       "    </tr>\n",
       "    <tr>\n",
       "      <th>2</th>\n",
       "      <td>2</td>\n",
       "      <td>0</td>\n",
       "      <td>26.0</td>\n",
       "      <td>0</td>\n",
       "      <td>0</td>\n",
       "      <td>7.9250</td>\n",
       "      <td>2</td>\n",
       "      <td>0</td>\n",
       "      <td>1</td>\n",
       "      <td>0</td>\n",
       "    </tr>\n",
       "    <tr>\n",
       "      <th>3</th>\n",
       "      <td>0</td>\n",
       "      <td>0</td>\n",
       "      <td>35.0</td>\n",
       "      <td>1</td>\n",
       "      <td>0</td>\n",
       "      <td>53.1000</td>\n",
       "      <td>2</td>\n",
       "      <td>0</td>\n",
       "      <td>2</td>\n",
       "      <td>1</td>\n",
       "    </tr>\n",
       "    <tr>\n",
       "      <th>4</th>\n",
       "      <td>2</td>\n",
       "      <td>1</td>\n",
       "      <td>35.0</td>\n",
       "      <td>0</td>\n",
       "      <td>0</td>\n",
       "      <td>8.0500</td>\n",
       "      <td>2</td>\n",
       "      <td>0</td>\n",
       "      <td>1</td>\n",
       "      <td>0</td>\n",
       "    </tr>\n",
       "  </tbody>\n",
       "</table>\n",
       "</div>"
      ],
      "text/plain": [
       "   Pclass  Sex   Age  SibSp  Parch     Fare  Embarked  AgeGroup  \\\n",
       "0       2    1  22.0      1      0   7.2500         2         0   \n",
       "1       0    0  38.0      1      0  71.2833         0         0   \n",
       "2       2    0  26.0      0      0   7.9250         2         0   \n",
       "3       0    0  35.0      1      0  53.1000         2         0   \n",
       "4       2    1  35.0      0      0   8.0500         2         0   \n",
       "\n",
       "   FamilySizeCategory  CabinStatus  \n",
       "0                   2            0  \n",
       "1                   2            1  \n",
       "2                   1            0  \n",
       "3                   2            1  \n",
       "4                   1            0  "
      ]
     },
     "execution_count": 31,
     "metadata": {},
     "output_type": "execute_result"
    }
   ],
   "source": [
    "train_data.head()"
   ]
  },
  {
   "cell_type": "code",
   "execution_count": 32,
   "metadata": {},
   "outputs": [
    {
     "name": "stderr",
     "output_type": "stream",
     "text": [
      "C:\\Users\\HARSHIT KUMAR\\Anaconda3\\lib\\site-packages\\sklearn\\preprocessing\\_encoders.py:368: FutureWarning: The handling of integer data will change in version 0.22. Currently, the categories are determined based on the range [0, max(values)], while in the future they will be determined based on the unique values.\n",
      "If you want the future behaviour and silence this warning, you can specify \"categories='auto'\".\n",
      "In case you used a LabelEncoder before this OneHotEncoder to convert the categories to integers, then you can now use the OneHotEncoder directly.\n",
      "  warnings.warn(msg, FutureWarning)\n",
      "C:\\Users\\HARSHIT KUMAR\\Anaconda3\\lib\\site-packages\\sklearn\\preprocessing\\_encoders.py:390: DeprecationWarning: The 'categorical_features' keyword is deprecated in version 0.20 and will be removed in 0.22. You can use the ColumnTransformer instead.\n",
      "  \"use the ColumnTransformer instead.\", DeprecationWarning)\n"
     ]
    }
   ],
   "source": [
    "ohe = OneHotEncoder(categorical_features=[0,6,7,8])\n",
    "\n",
    "train_data = pd.DataFrame(ohe.fit_transform(train_data).toarray())"
   ]
  },
  {
   "cell_type": "code",
   "execution_count": 33,
   "metadata": {},
   "outputs": [],
   "source": [
    "train_data = train_data.drop([0,3,6,9],axis=1)"
   ]
  },
  {
   "cell_type": "code",
   "execution_count": 39,
   "metadata": {},
   "outputs": [
    {
     "data": {
      "text/html": [
       "<div>\n",
       "<style scoped>\n",
       "    .dataframe tbody tr th:only-of-type {\n",
       "        vertical-align: middle;\n",
       "    }\n",
       "\n",
       "    .dataframe tbody tr th {\n",
       "        vertical-align: top;\n",
       "    }\n",
       "\n",
       "    .dataframe thead th {\n",
       "        text-align: right;\n",
       "    }\n",
       "</style>\n",
       "<table border=\"1\" class=\"dataframe\">\n",
       "  <thead>\n",
       "    <tr style=\"text-align: right;\">\n",
       "      <th></th>\n",
       "      <th>1</th>\n",
       "      <th>2</th>\n",
       "      <th>4</th>\n",
       "      <th>5</th>\n",
       "      <th>7</th>\n",
       "      <th>8</th>\n",
       "      <th>10</th>\n",
       "      <th>11</th>\n",
       "      <th>12</th>\n",
       "      <th>13</th>\n",
       "      <th>14</th>\n",
       "      <th>15</th>\n",
       "      <th>16</th>\n",
       "      <th>17</th>\n",
       "    </tr>\n",
       "  </thead>\n",
       "  <tbody>\n",
       "    <tr>\n",
       "      <th>0</th>\n",
       "      <td>0.0</td>\n",
       "      <td>1.0</td>\n",
       "      <td>0.0</td>\n",
       "      <td>1.0</td>\n",
       "      <td>0.0</td>\n",
       "      <td>0.0</td>\n",
       "      <td>0.0</td>\n",
       "      <td>1.0</td>\n",
       "      <td>1.0</td>\n",
       "      <td>22.0</td>\n",
       "      <td>1.0</td>\n",
       "      <td>0.0</td>\n",
       "      <td>7.2500</td>\n",
       "      <td>0.0</td>\n",
       "    </tr>\n",
       "    <tr>\n",
       "      <th>1</th>\n",
       "      <td>0.0</td>\n",
       "      <td>0.0</td>\n",
       "      <td>0.0</td>\n",
       "      <td>0.0</td>\n",
       "      <td>0.0</td>\n",
       "      <td>0.0</td>\n",
       "      <td>0.0</td>\n",
       "      <td>1.0</td>\n",
       "      <td>0.0</td>\n",
       "      <td>38.0</td>\n",
       "      <td>1.0</td>\n",
       "      <td>0.0</td>\n",
       "      <td>71.2833</td>\n",
       "      <td>1.0</td>\n",
       "    </tr>\n",
       "    <tr>\n",
       "      <th>2</th>\n",
       "      <td>0.0</td>\n",
       "      <td>1.0</td>\n",
       "      <td>0.0</td>\n",
       "      <td>1.0</td>\n",
       "      <td>0.0</td>\n",
       "      <td>0.0</td>\n",
       "      <td>1.0</td>\n",
       "      <td>0.0</td>\n",
       "      <td>0.0</td>\n",
       "      <td>26.0</td>\n",
       "      <td>0.0</td>\n",
       "      <td>0.0</td>\n",
       "      <td>7.9250</td>\n",
       "      <td>0.0</td>\n",
       "    </tr>\n",
       "    <tr>\n",
       "      <th>3</th>\n",
       "      <td>0.0</td>\n",
       "      <td>0.0</td>\n",
       "      <td>0.0</td>\n",
       "      <td>1.0</td>\n",
       "      <td>0.0</td>\n",
       "      <td>0.0</td>\n",
       "      <td>0.0</td>\n",
       "      <td>1.0</td>\n",
       "      <td>0.0</td>\n",
       "      <td>35.0</td>\n",
       "      <td>1.0</td>\n",
       "      <td>0.0</td>\n",
       "      <td>53.1000</td>\n",
       "      <td>1.0</td>\n",
       "    </tr>\n",
       "    <tr>\n",
       "      <th>4</th>\n",
       "      <td>0.0</td>\n",
       "      <td>1.0</td>\n",
       "      <td>0.0</td>\n",
       "      <td>1.0</td>\n",
       "      <td>0.0</td>\n",
       "      <td>0.0</td>\n",
       "      <td>1.0</td>\n",
       "      <td>0.0</td>\n",
       "      <td>1.0</td>\n",
       "      <td>35.0</td>\n",
       "      <td>0.0</td>\n",
       "      <td>0.0</td>\n",
       "      <td>8.0500</td>\n",
       "      <td>0.0</td>\n",
       "    </tr>\n",
       "  </tbody>\n",
       "</table>\n",
       "</div>"
      ],
      "text/plain": [
       "    1    2    4    5    7    8    10   11   12    13   14   15       16   17\n",
       "0  0.0  1.0  0.0  1.0  0.0  0.0  0.0  1.0  1.0  22.0  1.0  0.0   7.2500  0.0\n",
       "1  0.0  0.0  0.0  0.0  0.0  0.0  0.0  1.0  0.0  38.0  1.0  0.0  71.2833  1.0\n",
       "2  0.0  1.0  0.0  1.0  0.0  0.0  1.0  0.0  0.0  26.0  0.0  0.0   7.9250  0.0\n",
       "3  0.0  0.0  0.0  1.0  0.0  0.0  0.0  1.0  0.0  35.0  1.0  0.0  53.1000  1.0\n",
       "4  0.0  1.0  0.0  1.0  0.0  0.0  1.0  0.0  1.0  35.0  0.0  0.0   8.0500  0.0"
      ]
     },
     "execution_count": 39,
     "metadata": {},
     "output_type": "execute_result"
    }
   ],
   "source": [
    "train_data.head()"
   ]
  },
  {
   "cell_type": "markdown",
   "metadata": {},
   "source": [
    "### Splitting the dataset into training and test datasets"
   ]
  },
  {
   "cell_type": "code",
   "execution_count": 34,
   "metadata": {},
   "outputs": [],
   "source": [
    "from sklearn.model_selection import train_test_split\n",
    "X_train,X_test,y_train,y_test = train_test_split(train_data.values,dataset.Survived.values,test_size=0.2,random_state=0)"
   ]
  },
  {
   "cell_type": "markdown",
   "metadata": {},
   "source": [
    "### Feature Scaling"
   ]
  },
  {
   "cell_type": "code",
   "execution_count": 35,
   "metadata": {},
   "outputs": [],
   "source": [
    "from sklearn.preprocessing import StandardScaler\n",
    "sc = StandardScaler()\n",
    "X_train = sc.fit_transform(X_train)\n",
    "\n",
    "X_test = sc.fit_transform(X_test)"
   ]
  },
  {
   "cell_type": "code",
   "execution_count": 42,
   "metadata": {},
   "outputs": [
    {
     "data": {
      "text/html": [
       "<div>\n",
       "<style scoped>\n",
       "    .dataframe tbody tr th:only-of-type {\n",
       "        vertical-align: middle;\n",
       "    }\n",
       "\n",
       "    .dataframe tbody tr th {\n",
       "        vertical-align: top;\n",
       "    }\n",
       "\n",
       "    .dataframe thead th {\n",
       "        text-align: right;\n",
       "    }\n",
       "</style>\n",
       "<table border=\"1\" class=\"dataframe\">\n",
       "  <thead>\n",
       "    <tr style=\"text-align: right;\">\n",
       "      <th></th>\n",
       "      <th>0</th>\n",
       "      <th>1</th>\n",
       "      <th>2</th>\n",
       "      <th>3</th>\n",
       "      <th>4</th>\n",
       "      <th>5</th>\n",
       "      <th>6</th>\n",
       "      <th>7</th>\n",
       "      <th>8</th>\n",
       "      <th>9</th>\n",
       "      <th>10</th>\n",
       "      <th>11</th>\n",
       "      <th>12</th>\n",
       "      <th>13</th>\n",
       "    </tr>\n",
       "  </thead>\n",
       "  <tbody>\n",
       "    <tr>\n",
       "      <th>0</th>\n",
       "      <td>-0.507888</td>\n",
       "      <td>0.893297</td>\n",
       "      <td>-0.31427</td>\n",
       "      <td>-1.639853</td>\n",
       "      <td>-0.465933</td>\n",
       "      <td>-0.308844</td>\n",
       "      <td>-1.234837</td>\n",
       "      <td>1.438390</td>\n",
       "      <td>-1.372075</td>\n",
       "      <td>-0.002824</td>\n",
       "      <td>-0.464452</td>\n",
       "      <td>1.959264</td>\n",
       "      <td>-0.331679</td>\n",
       "      <td>-0.544888</td>\n",
       "    </tr>\n",
       "    <tr>\n",
       "      <th>1</th>\n",
       "      <td>1.968937</td>\n",
       "      <td>-1.119448</td>\n",
       "      <td>-0.31427</td>\n",
       "      <td>0.609811</td>\n",
       "      <td>-0.465933</td>\n",
       "      <td>-0.308844</td>\n",
       "      <td>0.809823</td>\n",
       "      <td>-0.695222</td>\n",
       "      <td>0.728823</td>\n",
       "      <td>0.096629</td>\n",
       "      <td>-0.464452</td>\n",
       "      <td>-0.477410</td>\n",
       "      <td>-0.426405</td>\n",
       "      <td>-0.544888</td>\n",
       "    </tr>\n",
       "    <tr>\n",
       "      <th>2</th>\n",
       "      <td>1.968937</td>\n",
       "      <td>-1.119448</td>\n",
       "      <td>-0.31427</td>\n",
       "      <td>-1.639853</td>\n",
       "      <td>-0.465933</td>\n",
       "      <td>-0.308844</td>\n",
       "      <td>-1.234837</td>\n",
       "      <td>1.438390</td>\n",
       "      <td>0.728823</td>\n",
       "      <td>0.096629</td>\n",
       "      <td>0.412710</td>\n",
       "      <td>0.740927</td>\n",
       "      <td>0.102620</td>\n",
       "      <td>-0.544888</td>\n",
       "    </tr>\n",
       "    <tr>\n",
       "      <th>3</th>\n",
       "      <td>-0.507888</td>\n",
       "      <td>0.893297</td>\n",
       "      <td>-0.31427</td>\n",
       "      <td>-1.639853</td>\n",
       "      <td>-0.465933</td>\n",
       "      <td>-0.308844</td>\n",
       "      <td>0.809823</td>\n",
       "      <td>-0.695222</td>\n",
       "      <td>0.728823</td>\n",
       "      <td>-0.744332</td>\n",
       "      <td>-0.464452</td>\n",
       "      <td>-0.477410</td>\n",
       "      <td>-0.555896</td>\n",
       "      <td>-0.544888</td>\n",
       "    </tr>\n",
       "    <tr>\n",
       "      <th>4</th>\n",
       "      <td>-0.507888</td>\n",
       "      <td>0.893297</td>\n",
       "      <td>-0.31427</td>\n",
       "      <td>0.609811</td>\n",
       "      <td>-0.465933</td>\n",
       "      <td>-0.308844</td>\n",
       "      <td>0.809823</td>\n",
       "      <td>-0.695222</td>\n",
       "      <td>0.728823</td>\n",
       "      <td>-0.667881</td>\n",
       "      <td>-0.464452</td>\n",
       "      <td>-0.477410</td>\n",
       "      <td>-0.491276</td>\n",
       "      <td>-0.544888</td>\n",
       "    </tr>\n",
       "  </tbody>\n",
       "</table>\n",
       "</div>"
      ],
      "text/plain": [
       "         0         1        2         3         4         5         6   \\\n",
       "0 -0.507888  0.893297 -0.31427 -1.639853 -0.465933 -0.308844 -1.234837   \n",
       "1  1.968937 -1.119448 -0.31427  0.609811 -0.465933 -0.308844  0.809823   \n",
       "2  1.968937 -1.119448 -0.31427 -1.639853 -0.465933 -0.308844 -1.234837   \n",
       "3 -0.507888  0.893297 -0.31427 -1.639853 -0.465933 -0.308844  0.809823   \n",
       "4 -0.507888  0.893297 -0.31427  0.609811 -0.465933 -0.308844  0.809823   \n",
       "\n",
       "         7         8         9         10        11        12        13  \n",
       "0  1.438390 -1.372075 -0.002824 -0.464452  1.959264 -0.331679 -0.544888  \n",
       "1 -0.695222  0.728823  0.096629 -0.464452 -0.477410 -0.426405 -0.544888  \n",
       "2  1.438390  0.728823  0.096629  0.412710  0.740927  0.102620 -0.544888  \n",
       "3 -0.695222  0.728823 -0.744332 -0.464452 -0.477410 -0.555896 -0.544888  \n",
       "4 -0.695222  0.728823 -0.667881 -0.464452 -0.477410 -0.491276 -0.544888  "
      ]
     },
     "execution_count": 42,
     "metadata": {},
     "output_type": "execute_result"
    }
   ],
   "source": [
    "pd.DataFrame(X_train).head()"
   ]
  },
  {
   "cell_type": "code",
   "execution_count": 44,
   "metadata": {},
   "outputs": [
    {
     "data": {
      "text/html": [
       "<div>\n",
       "<style scoped>\n",
       "    .dataframe tbody tr th:only-of-type {\n",
       "        vertical-align: middle;\n",
       "    }\n",
       "\n",
       "    .dataframe tbody tr th {\n",
       "        vertical-align: top;\n",
       "    }\n",
       "\n",
       "    .dataframe thead th {\n",
       "        text-align: right;\n",
       "    }\n",
       "</style>\n",
       "<table border=\"1\" class=\"dataframe\">\n",
       "  <thead>\n",
       "    <tr style=\"text-align: right;\">\n",
       "      <th></th>\n",
       "      <th>0</th>\n",
       "      <th>1</th>\n",
       "      <th>2</th>\n",
       "      <th>3</th>\n",
       "      <th>4</th>\n",
       "      <th>5</th>\n",
       "      <th>6</th>\n",
       "      <th>7</th>\n",
       "      <th>8</th>\n",
       "      <th>9</th>\n",
       "      <th>10</th>\n",
       "      <th>11</th>\n",
       "      <th>12</th>\n",
       "      <th>13</th>\n",
       "    </tr>\n",
       "  </thead>\n",
       "  <tbody>\n",
       "    <tr>\n",
       "      <th>0</th>\n",
       "      <td>-0.519137</td>\n",
       "      <td>0.940325</td>\n",
       "      <td>-0.279845</td>\n",
       "      <td>-1.562788</td>\n",
       "      <td>-0.501745</td>\n",
       "      <td>-0.313304</td>\n",
       "      <td>0.820303</td>\n",
       "      <td>-0.710072</td>\n",
       "      <td>0.773443</td>\n",
       "      <td>0.011619</td>\n",
       "      <td>-0.531327</td>\n",
       "      <td>-0.460066</td>\n",
       "      <td>-0.399034</td>\n",
       "      <td>-0.545070</td>\n",
       "    </tr>\n",
       "    <tr>\n",
       "      <th>1</th>\n",
       "      <td>-0.519137</td>\n",
       "      <td>0.940325</td>\n",
       "      <td>-0.279845</td>\n",
       "      <td>0.639882</td>\n",
       "      <td>-0.501745</td>\n",
       "      <td>-0.313304</td>\n",
       "      <td>0.820303</td>\n",
       "      <td>-0.710072</td>\n",
       "      <td>0.773443</td>\n",
       "      <td>0.011619</td>\n",
       "      <td>-0.531327</td>\n",
       "      <td>-0.460066</td>\n",
       "      <td>-0.543336</td>\n",
       "      <td>-0.545070</td>\n",
       "    </tr>\n",
       "    <tr>\n",
       "      <th>2</th>\n",
       "      <td>-0.519137</td>\n",
       "      <td>0.940325</td>\n",
       "      <td>3.573406</td>\n",
       "      <td>-1.562788</td>\n",
       "      <td>-0.501745</td>\n",
       "      <td>3.191786</td>\n",
       "      <td>-1.219062</td>\n",
       "      <td>-0.710072</td>\n",
       "      <td>0.773443</td>\n",
       "      <td>-1.783119</td>\n",
       "      <td>3.743167</td>\n",
       "      <td>0.889964</td>\n",
       "      <td>-0.092673</td>\n",
       "      <td>-0.545070</td>\n",
       "    </tr>\n",
       "    <tr>\n",
       "      <th>3</th>\n",
       "      <td>-0.519137</td>\n",
       "      <td>-1.063462</td>\n",
       "      <td>-0.279845</td>\n",
       "      <td>-1.562788</td>\n",
       "      <td>-0.501745</td>\n",
       "      <td>-0.313304</td>\n",
       "      <td>-1.219062</td>\n",
       "      <td>1.408309</td>\n",
       "      <td>-1.292920</td>\n",
       "      <td>0.011619</td>\n",
       "      <td>0.537297</td>\n",
       "      <td>-0.460066</td>\n",
       "      <td>2.359513</td>\n",
       "      <td>1.834626</td>\n",
       "    </tr>\n",
       "    <tr>\n",
       "      <th>4</th>\n",
       "      <td>-0.519137</td>\n",
       "      <td>0.940325</td>\n",
       "      <td>-0.279845</td>\n",
       "      <td>-1.562788</td>\n",
       "      <td>-0.501745</td>\n",
       "      <td>-0.313304</td>\n",
       "      <td>-1.219062</td>\n",
       "      <td>1.408309</td>\n",
       "      <td>-1.292920</td>\n",
       "      <td>-0.043658</td>\n",
       "      <td>-0.531327</td>\n",
       "      <td>2.239995</td>\n",
       "      <td>-0.382584</td>\n",
       "      <td>-0.545070</td>\n",
       "    </tr>\n",
       "  </tbody>\n",
       "</table>\n",
       "</div>"
      ],
      "text/plain": [
       "         0         1         2         3         4         5         6   \\\n",
       "0 -0.519137  0.940325 -0.279845 -1.562788 -0.501745 -0.313304  0.820303   \n",
       "1 -0.519137  0.940325 -0.279845  0.639882 -0.501745 -0.313304  0.820303   \n",
       "2 -0.519137  0.940325  3.573406 -1.562788 -0.501745  3.191786 -1.219062   \n",
       "3 -0.519137 -1.063462 -0.279845 -1.562788 -0.501745 -0.313304 -1.219062   \n",
       "4 -0.519137  0.940325 -0.279845 -1.562788 -0.501745 -0.313304 -1.219062   \n",
       "\n",
       "         7         8         9         10        11        12        13  \n",
       "0 -0.710072  0.773443  0.011619 -0.531327 -0.460066 -0.399034 -0.545070  \n",
       "1 -0.710072  0.773443  0.011619 -0.531327 -0.460066 -0.543336 -0.545070  \n",
       "2 -0.710072  0.773443 -1.783119  3.743167  0.889964 -0.092673 -0.545070  \n",
       "3  1.408309 -1.292920  0.011619  0.537297 -0.460066  2.359513  1.834626  \n",
       "4  1.408309 -1.292920 -0.043658 -0.531327  2.239995 -0.382584 -0.545070  "
      ]
     },
     "execution_count": 44,
     "metadata": {},
     "output_type": "execute_result"
    }
   ],
   "source": [
    "pd.DataFrame(X_test).head()"
   ]
  },
  {
   "cell_type": "markdown",
   "metadata": {},
   "source": [
    "### Fitting the Random Forest Classifier model on the training dataset"
   ]
  },
  {
   "cell_type": "code",
   "execution_count": 36,
   "metadata": {},
   "outputs": [
    {
     "data": {
      "text/plain": [
       "RandomForestClassifier(bootstrap=True, class_weight=None, criterion='entropy',\n",
       "            max_depth=None, max_features='auto', max_leaf_nodes=None,\n",
       "            min_impurity_decrease=0.0, min_impurity_split=None,\n",
       "            min_samples_leaf=1, min_samples_split=2,\n",
       "            min_weight_fraction_leaf=0.0, n_estimators=100, n_jobs=None,\n",
       "            oob_score=False, random_state=0, verbose=0, warm_start=False)"
      ]
     },
     "execution_count": 36,
     "metadata": {},
     "output_type": "execute_result"
    }
   ],
   "source": [
    "from sklearn.ensemble import RandomForestClassifier\n",
    "model = RandomForestClassifier(n_estimators=100,criterion='entropy',random_state=0)\n",
    "model.fit(X_train,y_train)"
   ]
  },
  {
   "cell_type": "markdown",
   "metadata": {},
   "source": [
    "### Predicting the results"
   ]
  },
  {
   "cell_type": "code",
   "execution_count": 37,
   "metadata": {},
   "outputs": [],
   "source": [
    "y_pred = model.predict(X_test)"
   ]
  },
  {
   "cell_type": "markdown",
   "metadata": {},
   "source": [
    "### Determining the accuracy of the model"
   ]
  },
  {
   "cell_type": "code",
   "execution_count": 38,
   "metadata": {},
   "outputs": [
    {
     "name": "stdout",
     "output_type": "stream",
     "text": [
      "We predicted the survival of passengers with an accuracy of \n",
      "82.682 %\n"
     ]
    }
   ],
   "source": [
    "from sklearn.metrics import accuracy_score\n",
    "accuracy_percentage = (accuracy_score(y_test,y_pred)*100).round(3)\n",
    "print(\"We predicted the survival of passengers with an accuracy of \")\n",
    "print(accuracy_percentage,\"%\")"
   ]
  }
 ],
 "metadata": {
  "kernelspec": {
   "display_name": "Python 3",
   "language": "python",
   "name": "python3"
  },
  "language_info": {
   "codemirror_mode": {
    "name": "ipython",
    "version": 3
   },
   "file_extension": ".py",
   "mimetype": "text/x-python",
   "name": "python",
   "nbconvert_exporter": "python",
   "pygments_lexer": "ipython3",
   "version": "3.7.1"
  }
 },
 "nbformat": 4,
 "nbformat_minor": 2
}
